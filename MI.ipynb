from fastapi import FastAPI, File, UploadFile
import base64
import io
from PIL import Image
import uvicorn
import nest_asyncio
from mistralai import Mistral

# Apply nest_asyncio for Jupyter Notebook
nest_asyncio.apply()

app = FastAPI()

# Your Mistral API key and model
API_KEY = "6pdlTRLqX2GhuEjgrtNJqwAhBWm8Yy6M"
MODEL = "pixtral-12b-2409"
client = Mistral(api_key=API_KEY)

def encode_image(file):
    """Convert an image file to base64."""
    return base64.b64encode(file.read()).decode('utf-8')

@app.post("/classify/")
async def classify_image(file: UploadFile = File(...)):
    """Receives an image, sends it to Mistral, and returns classification."""
    try:
        # Read and encode image
        base64_image = encode_image(await file.read())

        # Define messages for Mistral API
        messages = [
            {
                "role": "user",
                "content": [
                    {
                        "type": "text",
                        "text": "Would you throw this away as trash as Compostable or is it recyclable? One word only."
                    },
                    {
                        "type": "image_url",
                        "image_url": f"data:image/jpeg;base64,{base64_image}" 
                    }
                ]
            }
        ]

        # Get response from Mistral AI
        chat_response = client.chat.complete(
            model=MODEL,
            messages=messages
        )

        # Extract classification result
        classification = chat_response.choices[0].message.content.strip()

        return {"classification": classification}

    except Exception as e:
        return {"error": str(e)}

# Run Uvicorn in Jupyter or standalone
if __name__ == "__main__":
    uvicorn.run(app, host="0.0.0.0", port=8000)
